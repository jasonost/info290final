{
 "metadata": {
  "gist_id": "8bf5aad33df4d2917de1",
  "name": "",
  "signature": "sha256:fcd9b91d636a9974bfbdb2f788a57793c0e07788aa72648fe3b24ae732412866"
 },
 "nbformat": 3,
 "nbformat_minor": 0,
 "worksheets": [
  {
   "cells": [
    {
     "cell_type": "code",
     "collapsed": false,
     "input": [
      "import pandas as pd, numpy as np, datetime, random, cPickle as pickle\n",
      "from sklearn.cluster import KMeans, DBSCAN\n",
      "from sklearn.cluster.bicluster import SpectralBiclustering\n",
      "from sklearn.linear_model import LinearRegression\n",
      "from scipy import stats\n",
      "from collections import Counter\n",
      "from __future__ import division\n",
      "pd.set_option('max_colwidth', 200)\n",
      "pd.set_option('display.max_rows', 500)\n",
      "%matplotlib inline"
     ],
     "language": "python",
     "metadata": {},
     "outputs": [],
     "prompt_number": 1
    },
    {
     "cell_type": "markdown",
     "metadata": {},
     "source": [
      "### Read in data"
     ]
    },
    {
     "cell_type": "code",
     "collapsed": false,
     "input": [
      "base_path = '../data/'\n",
      "file_2012 = 'stark_2012_events.csv'\n",
      "grades_2012 = 'anonymized12.csv'"
     ],
     "language": "python",
     "metadata": {},
     "outputs": [],
     "prompt_number": 2
    },
    {
     "cell_type": "code",
     "collapsed": false,
     "input": [
      "events = pd.read_csv('%s%s' % (base_path,file_2012),\n",
      "                     skiprows=1,\n",
      "                     names=['userId',\n",
      "                            'updatedAt',\n",
      "                            'eventType',\n",
      "                            'activityType',\n",
      "                            'activityTitle',\n",
      "                            'topicTitle',\n",
      "                            'timeMinutes',\n",
      "                            'scorePercent',\n",
      "                            'anchorValue',\n",
      "                            'anchorSelection',\n",
      "                            'topicId',\n",
      "                            'activityId',\n",
      "                            'activityEventId',\n",
      "                            'updateCount'],\n",
      "                     parse_dates=[\"updatedAt\"],\n",
      "                     na_values=[\"\\N\"],\n",
      "                     delimiter=\"\\t\"\n",
      "                     )\n",
      "\n",
      "grades = pd.read_csv('%s%s' % (base_path,grades_2012),\n",
      "                     skiprows=1,\n",
      "                     names=[\"userId\",\n",
      "                            \"Set0\",\n",
      "                            \"Set1\",\n",
      "                            \"Set2\",\n",
      "                            \"Set3\",\n",
      "                            \"Set4\",\n",
      "                            \"Set5\",\n",
      "                            \"Set6\",\n",
      "                            \"Set7\",\n",
      "                            \"Set8\",\n",
      "                            \"Set9\",\n",
      "                            \"Set10\",\n",
      "                            \"Set11\",\n",
      "                            \"Set12\",\n",
      "                            \"Set13\",\n",
      "                            \"Set13-\",\n",
      "                            \"Set14\",\n",
      "                            \"Set15\",\n",
      "                            \"Set16\",\n",
      "                            \"Set17\",\n",
      "                            \"Set18\",\n",
      "                            \"Set19\",\n",
      "                            \"Set20\",\n",
      "                            \"Set21\",\n",
      "                            \"Set22\",\n",
      "                            \"Set23\",\n",
      "                            \"Set24\",\n",
      "                            \"Set25\",\n",
      "                            \"Set26\",\n",
      "                            \"Set27\",\n",
      "                            \"Set28\",\n",
      "                            \"set2Adj\",\n",
      "                            \"set8Adj\",\n",
      "                            \"set13Adj\",\n",
      "                            \"set22Adj\",\n",
      "                            \"course\",\n",
      "                            \"comment\",\n",
      "                            \"option\",\n",
      "                            \"name\",\n",
      "                            \"ccn\"])\n",
      "\n",
      "grades = grades[grades.Set0.apply(lambda x: pd.notnull(x))]"
     ],
     "language": "python",
     "metadata": {},
     "outputs": [],
     "prompt_number": 3
    },
    {
     "cell_type": "markdown",
     "metadata": {},
     "source": [
      "### Feature engineering"
     ]
    },
    {
     "cell_type": "code",
     "collapsed": false,
     "input": [
      "# limit dataframe to \"good\" rows\n",
      "graded = set(grades.userId.values)\n",
      "events = events[(events.activityType != 'DISCUSS') & \n",
      "                (events.eventType != 'OPENED') &\n",
      "                (events.timeMinutes.apply(lambda x: pd.notnull(x))) &\n",
      "                (events.userId.apply(lambda x: x in graded))]"
     ],
     "language": "python",
     "metadata": {},
     "outputs": [],
     "prompt_number": 4
    },
    {
     "cell_type": "code",
     "collapsed": false,
     "input": [
      "# day of week lookup dict\n",
      "day_of_week = {0: 'Monday',\n",
      "               1: 'Tuesday',\n",
      "               2: 'Wednesday',\n",
      "               3: 'Thursday',\n",
      "               4: 'Friday',\n",
      "               5: 'Saturday',\n",
      "               6: 'Sunday'}\n",
      "alt_dow = {i: 'day_%d' % i for i in range(7)}\n",
      "\n",
      "# calculate time features\n",
      "total_time = events.groupby('userId').timeMinutes.sum()\n",
      "day_time = events.groupby(['userId',events.updatedAt.apply(lambda x: alt_dow[x.dayofweek])]).timeMinutes.sum().unstack()\n",
      "event_time = events.groupby(['userId','eventType']).timeMinutes.sum().unstack()\n",
      "activity_time = events.groupby(['userId',events.activityType.apply(lambda x: 'WATCH' if x == 'LISTEN' else x)]).timeMinutes.sum().unstack()\n",
      "\n",
      "# create full dataframe\n",
      "train_features = pd.DataFrame(total_time).join([day_time,event_time,activity_time]).fillna(0)\n",
      "\n",
      "# calculate percents\n",
      "for feat in train_features.keys():\n",
      "    if feat != 'timeMinutes':\n",
      "        train_features[feat] = train_features[feat] / train_features.timeMinutes\n",
      "\n",
      "del train_features['timeMinutes']"
     ],
     "language": "python",
     "metadata": {},
     "outputs": [],
     "prompt_number": 5
    },
    {
     "cell_type": "code",
     "collapsed": false,
     "input": [
      "# assignment behavior features\n",
      "submits = events[(events.activityType == 'ASSIGNMENT') & \n",
      "                 (events.eventType == 'CLOSED') & \n",
      "                 (events.anchorValue.apply(lambda x: pd.isnull(x))) &\n",
      "                 (events.scorePercent.apply(lambda x: pd.notnull(x))) &\n",
      "                 ((events.scorePercent + events.timeMinutes).apply(lambda x: x > 0))][['userId','updatedAt','topicTitle','timeMinutes','scorePercent']]\n",
      "\n",
      "avg_submit = pd.DataFrame(submits.groupby('userId').topicTitle.count() / submits.groupby('userId').topicTitle.nunique())\n",
      "avg_submit.columns = ['submits']\n",
      "\n",
      "train_features = train_features.join(avg_submit)"
     ],
     "language": "python",
     "metadata": {},
     "outputs": [
      {
       "output_type": "stream",
       "stream": "stderr",
       "text": [
        "/Users/jost/courses/mlined/env/lib/python2.7/site-packages/numexpr/necompiler.py:742: DeprecationWarning: using `oa_ndim == 0` when `op_axes` is NULL is deprecated. Use `oa_ndim == -1` or the MultiNew iterator for NumPy <1.8 compatibility\n",
        "  return compiled_ex(*arguments, **kwargs)\n"
       ]
      }
     ],
     "prompt_number": 6
    },
    {
     "cell_type": "code",
     "collapsed": false,
     "input": [
      "# z-score columns\n",
      "for feat in train_features.keys():\n",
      "    train_features[feat] = stats.mstats.zscore(train_features[feat])"
     ],
     "language": "python",
     "metadata": {},
     "outputs": [],
     "prompt_number": 8
    },
    {
     "cell_type": "code",
     "collapsed": false,
     "input": [
      "train_features.drop(train_features.index[40], inplace=True)"
     ],
     "language": "python",
     "metadata": {},
     "outputs": [],
     "prompt_number": 15
    },
    {
     "cell_type": "markdown",
     "metadata": {},
     "source": [
      "### Clustering"
     ]
    },
    {
     "cell_type": "code",
     "collapsed": false,
     "input": [
      "numclus = 5\n",
      "model = SpectralBiclustering(n_clusters=numclus, method='log', random_state=0)\n",
      "model.fit(train_features)"
     ],
     "language": "python",
     "metadata": {},
     "outputs": [],
     "prompt_number": 16
    },
    {
     "cell_type": "code",
     "collapsed": false,
     "input": [
      "c = Counter(model.row_labels_)\n",
      "print c"
     ],
     "language": "python",
     "metadata": {},
     "outputs": [
      {
       "output_type": "stream",
       "stream": "stdout",
       "text": [
        "Counter({0: 97, 1: 46, 2: 46, 3: 43, 4: 37})\n"
       ]
      }
     ],
     "prompt_number": 17
    },
    {
     "cell_type": "code",
     "collapsed": false,
     "input": [
      "zip(train_features.keys(),model.column_labels_)"
     ],
     "language": "python",
     "metadata": {},
     "outputs": [
      {
       "metadata": {},
       "output_type": "pyout",
       "prompt_number": 18,
       "text": [
        "[('day_0', 0),\n",
        " ('day_1', 2),\n",
        " ('day_2', 2),\n",
        " ('day_3', 0),\n",
        " ('day_4', 4),\n",
        " ('day_5', 0),\n",
        " ('day_6', 0),\n",
        " ('CLOSED', 1),\n",
        " ('SUSPENDED', 0),\n",
        " ('WORKED', 3),\n",
        " ('ASSIGNMENT', 1),\n",
        " ('PRACTICE', 3),\n",
        " ('READ', 3),\n",
        " ('WATCH', 0),\n",
        " ('submits', 4)]"
       ]
      }
     ],
     "prompt_number": 18
    },
    {
     "cell_type": "code",
     "collapsed": false,
     "input": [
      "clus_df = pd.concat([train_features,pd.DataFrame({'clus': model.row_labels_}, index=train_features.index)],axis=1)\n",
      "\n",
      "a = clus_df.groupby('clus').mean().T.plot(figsize=(15,numclus*3), ylim=(-3,3), subplots=True, kind='bar')"
     ],
     "language": "python",
     "metadata": {},
     "outputs": [
      {
       "metadata": {},
       "output_type": "display_data",
       "png": "[encoded data removed]",
       "text": [
        "<matplotlib.figure.Figure at 0x11b330590>"
       ]
      }
     ],
     "prompt_number": 19
    },
    {
     "cell_type": "markdown",
     "metadata": {},
     "source": [
      "### Resource usage during assignments"
     ]
    },
    {
     "cell_type": "code",
     "collapsed": false,
     "input": [
      "# limit events to listening/watching, practice, and reading activities\n",
      "def retitle(df):\n",
      "    newTitle = df.activityType + ': '\n",
      "    if df.topicTitle != df.activityTitle:\n",
      "        if df.activityTitle[:8] == 'Exercise' or 'Example' in df.activityTitle:\n",
      "            newTitle += df.activityTitle + ': ' + df.topicTitle\n",
      "        else:\n",
      "            newTitle += df.topicTitle + ': ' + df.activityTitle\n",
      "    else:\n",
      "        newTitle += df.topicTitle\n",
      "    return newTitle\n",
      "\n",
      "events_j = events[events.activityType.apply(lambda x: x in ['LISTEN','PRACTICE','READ','WATCH'])]\n",
      "events_j['resource'] = events_j.apply(retitle, axis=1)\n",
      "events_j['updatedAt_1hrs'] = events_j.updatedAt.apply(lambda x: x - np.timedelta64(1,'h'))\n",
      "events_j['updatedAt_3hrs'] = events_j.updatedAt.apply(lambda x: x - np.timedelta64(3,'h'))\n",
      "events_j['updatedAt_6hrs'] = events_j.updatedAt.apply(lambda x: x - np.timedelta64(6,'h'))\n",
      "events_j = events_j[['userId',\n",
      "                     'updatedAt',\n",
      "                     'activityType',\n",
      "                     'timeMinutes',\n",
      "                     'anchorValue',\n",
      "                     'resource',\n",
      "                     'updatedAt_1hrs',\n",
      "                     'updatedAt_3hrs',\n",
      "                     'updatedAt_6hrs']]"
     ],
     "language": "python",
     "metadata": {},
     "outputs": [],
     "prompt_number": 20
    },
    {
     "cell_type": "code",
     "collapsed": false,
     "input": [
      "# cartesian join in all resource events to submits data\n",
      "submits_j = pd.merge(submits, events_j, on=['userId'])\n",
      "submits_j.rename(columns={'updatedAt_x':'updatedAt'}, inplace=True)\n",
      "print submits_j.shape"
     ],
     "language": "python",
     "metadata": {},
     "outputs": [
      {
       "output_type": "stream",
       "stream": "stdout",
       "text": [
        "(16092690, 13)\n"
       ]
      }
     ],
     "prompt_number": 15
    },
    {
     "cell_type": "code",
     "collapsed": false,
     "input": [
      "# select \"good\" resource usage events and create user/assignment vs resource usage matrix\n",
      "good_idx = (submits_j.updatedAt < submits_j.updatedAt_y) & (submits_j.updatedAt > submits_j.updatedAt_1hrs)\n",
      "resources = submits_j[good_idx].groupby(['userId','topicTitle','updatedAt','resource']).timeMinutes_y.sum().unstack().fillna(0)\n",
      "resource_list = resources.columns"
     ],
     "language": "python",
     "metadata": {},
     "outputs": [],
     "prompt_number": 16
    },
    {
     "cell_type": "code",
     "collapsed": false,
     "input": [
      "# get assignment grades to join in\n",
      "submits_g = submits[['userId','topicTitle','updatedAt','scorePercent']].set_index(['userId','topicTitle','updatedAt'])"
     ],
     "language": "python",
     "metadata": {},
     "outputs": [],
     "prompt_number": 17
    },
    {
     "cell_type": "code",
     "collapsed": false,
     "input": [
      "resources = resources.join(submits_g).join(clus_df[['clus']], how='inner').reset_index()"
     ],
     "language": "python",
     "metadata": {},
     "outputs": [],
     "prompt_number": 18
    },
    {
     "cell_type": "code",
     "collapsed": false,
     "input": [],
     "language": "python",
     "metadata": {},
     "outputs": [],
     "prompt_number": 22
    },
    {
     "cell_type": "markdown",
     "metadata": {},
     "source": [
      "### Alternate calculation: only resources viewed while working on assignment\n",
      "Also looking only at each student's max grade on the assignment"
     ]
    },
    {
     "cell_type": "code",
     "collapsed": false,
     "input": [
      "# limit events to listening/watching, practice, and reading activities\n",
      "def retitle(df):\n",
      "    newTitle = df.activityType + ': '\n",
      "    if df.topicTitle != df.activityTitle:\n",
      "        if df.activityTitle[:8] == 'Exercise' or 'Example' in df.activityTitle:\n",
      "            newTitle += df.activityTitle + ': ' + df.topicTitle\n",
      "        else:\n",
      "            newTitle += df.topicTitle + ': ' + df.activityTitle\n",
      "    else:\n",
      "        newTitle += df.topicTitle\n",
      "    return newTitle\n",
      "\n",
      "events_j = events[events.activityType.apply(lambda x: x in ['LISTEN','PRACTICE','READ','WATCH'])]\n",
      "events_j['resource'] = events_j.apply(retitle, axis=1)\n",
      "events_j['startedAt'] = events_j.apply(lambda df: df.updatedAt - np.timedelta64(int(df.timeMinutes),'m'), axis=1)\n",
      "events_j = events_j[['userId',\n",
      "                     'updatedAt',\n",
      "                     'startedAt',\n",
      "                     'activityType',\n",
      "                     'timeMinutes',\n",
      "                     'anchorValue',\n",
      "                     'resource']]"
     ],
     "language": "python",
     "metadata": {},
     "outputs": [],
     "prompt_number": 21
    },
    {
     "cell_type": "code",
     "collapsed": false,
     "input": [
      "# cartesian join in all resource events to submits data\n",
      "submits['startedAt'] = submits.apply(lambda df: df.updatedAt - np.timedelta64(int(df.timeMinutes),'m'), axis=1)\n",
      "\n",
      "submits_j = pd.merge(submits, events_j, on=['userId'])\n",
      "submits_j.rename(columns={'updatedAt_x':'updatedAt'}, inplace=True)\n",
      "print submits_j.shape"
     ],
     "language": "python",
     "metadata": {},
     "outputs": [
      {
       "output_type": "stream",
       "stream": "stdout",
       "text": [
        "(6381535, 12)\n"
       ]
      }
     ],
     "prompt_number": 22
    },
    {
     "cell_type": "code",
     "collapsed": false,
     "input": [
      "# select \"good\" resource usage events and create user/assignment vs resource usage matrix\n",
      "good_idx = ((submits_j.startedAt_y < submits_j.updatedAt) & \\\n",
      "            (submits_j.startedAt_x < submits_j.updatedAt_y))\n",
      "resources = submits_j[good_idx].groupby(['userId','topicTitle','resource']).timeMinutes_y.sum().unstack().fillna(0)\n",
      "resource_list = resources.columns"
     ],
     "language": "python",
     "metadata": {},
     "outputs": [],
     "prompt_number": 23
    },
    {
     "cell_type": "code",
     "collapsed": false,
     "input": [
      "# get assignment grades to join in\n",
      "submits_g = pd.DataFrame(submits.groupby(['userId','topicTitle']).scorePercent.max())"
     ],
     "language": "python",
     "metadata": {},
     "outputs": [],
     "prompt_number": 24
    },
    {
     "cell_type": "code",
     "collapsed": false,
     "input": [
      "resources = resources.join(submits_g).join(clus_df[['clus']], how='inner').reset_index()"
     ],
     "language": "python",
     "metadata": {},
     "outputs": [],
     "prompt_number": 25
    },
    {
     "cell_type": "code",
     "collapsed": false,
     "input": [
      "regmodel = LinearRegression()\n",
      "regmodel.fit(resources[(resources.topicTitle == 'ASSIGNMENT - Scatterplots and association: reading scatterplots, linearity and nonlinearity, homoscedasticity and heteroscedasticity, outliers') &\n",
      "                       (resources.clus == 3)][resource_list],\n",
      "             resources[(resources.topicTitle == 'ASSIGNMENT - Scatterplots and association: reading scatterplots, linearity and nonlinearity, homoscedasticity and heteroscedasticity, outliers') &\n",
      "                       (resources.clus == 3)][['scorePercent']])"
     ],
     "language": "python",
     "metadata": {},
     "outputs": [
      {
       "metadata": {},
       "output_type": "pyout",
       "prompt_number": 33,
       "text": [
        "LinearRegression(copy_X=True, fit_intercept=True, normalize=False)"
       ]
      }
     ],
     "prompt_number": 33
    },
    {
     "cell_type": "code",
     "collapsed": false,
     "input": [
      "sorted(zip(resource_list,regmodel.coef_.flatten()), key=lambda x: x[1], reverse=True)[:10]"
     ],
     "language": "python",
     "metadata": {},
     "outputs": [
      {
       "metadata": {},
       "output_type": "pyout",
       "prompt_number": 34,
       "text": [
        "[('READ: Multivariate Data', 0.066490210852990381),\n",
        " ('PRACTICE: Example 17-8: The Multiplication Rule', 2.8984696188523631e-18),\n",
        " ('PRACTICE: Exercise 11-1: The RMS Error of Regression', 0.0),\n",
        " ('PRACTICE: Exercise 11-2: The RMS Error of Regression', 0.0),\n",
        " ('PRACTICE: Exercise 11-3: The Regression Effect', 0.0),\n",
        " ('PRACTICE: Exercise 12-10: Ordered Choices (Permutations)', 0.0),\n",
        " ('PRACTICE: Exercise 12-14: Card Hands', 0.0),\n",
        " ('PRACTICE: Exercise 12-1: The Fundamental Rule of Counting', 0.0),\n",
        " ('PRACTICE: Exercise 12-2: The Fundamental Rule of Counting', 0.0),\n",
        " ('PRACTICE: Exercise 12-3: The Fundamental Rule of Counting', 0.0)]"
       ]
      }
     ],
     "prompt_number": 34
    },
    {
     "cell_type": "code",
     "collapsed": false,
     "input": [
      "regmodel.fit(resources[(resources.topicTitle == 'ASSIGNMENT - Scatterplots and association: reading scatterplots, linearity and nonlinearity, homoscedasticity and heteroscedasticity, outliers') &\n",
      "                       (resources.clus == 4)][resource_list],\n",
      "             resources[(resources.topicTitle == 'ASSIGNMENT - Scatterplots and association: reading scatterplots, linearity and nonlinearity, homoscedasticity and heteroscedasticity, outliers') &\n",
      "                       (resources.clus == 4)][['scorePercent']])"
     ],
     "language": "python",
     "metadata": {},
     "outputs": [
      {
       "metadata": {},
       "output_type": "pyout",
       "prompt_number": 31,
       "text": [
        "LinearRegression(copy_X=True, fit_intercept=True, normalize=False)"
       ]
      }
     ],
     "prompt_number": 31
    },
    {
     "cell_type": "code",
     "collapsed": false,
     "input": [
      "sorted(zip(resource_list,regmodel.coef_.flatten()), key=lambda x: x[1], reverse=True)[:10]"
     ],
     "language": "python",
     "metadata": {},
     "outputs": [
      {
       "metadata": {},
       "output_type": "pyout",
       "prompt_number": 32,
       "text": [
        "[('PRACTICE: Exercise 6-1: Association', 2.8199669376918846),\n",
        " ('WATCH: Association', 2.8171042067146255),\n",
        " ('WATCH: Describing Scatterplots', 2.541383076303656),\n",
        " ('READ: CHAPTER 7 Introduction: Correlation and Association : Correlation and Association Introduction',\n",
        "  1.828830269957159),\n",
        " ('READ: Spread or Variability', 0.30763275683913482),\n",
        " ('PRACTICE: Exercise 6-5: Post Hoc Ergo Propter Hoc', 0.28885866779480585),\n",
        " ('PRACTICE: Exercise 6-4: Association', 0.25636063069929943),\n",
        " ('READ: Homoscedasticity and Heteroscedasticity', 0.24630670514028172),\n",
        " ('READ: Association', 0.17814566817692135),\n",
        " ('READ: SD Line: The SD Line', 0.11989967456021332)]"
       ]
      }
     ],
     "prompt_number": 32
    },
    {
     "cell_type": "code",
     "collapsed": false,
     "input": [],
     "language": "python",
     "metadata": {},
     "outputs": []
    }
   ],
   "metadata": {}
  }
 ]
}
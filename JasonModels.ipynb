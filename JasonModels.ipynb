{
 "metadata": {
  "gist_id": "8bf5aad33df4d2917de1",
  "name": "",
  "signature": "sha256:7685599b7c67e75906115444bf821c788d56e0362b2baef955e7b96d2df7e51a"
 },
 "nbformat": 3,
 "nbformat_minor": 0,
 "worksheets": [
  {
   "cells": [
    {
     "cell_type": "code",
     "collapsed": false,
     "input": [
      "import pandas as pd, numpy as np, datetime, random, cPickle as pickle\n",
      "from sklearn.cluster import KMeans, DBSCAN\n",
      "from sklearn.cluster.bicluster import SpectralBiclustering\n",
      "from sklearn.linear_model import LinearRegression\n",
      "from scipy import stats\n",
      "from collections import Counter\n",
      "from __future__ import division\n",
      "pd.set_option('max_colwidth', 200)\n",
      "pd.set_option('display.max_rows', 500)\n",
      "%matplotlib inline"
     ],
     "language": "python",
     "metadata": {},
     "outputs": [],
     "prompt_number": 1
    },
    {
     "cell_type": "markdown",
     "metadata": {},
     "source": [
      "### Read in data"
     ]
    },
    {
     "cell_type": "code",
     "collapsed": false,
     "input": [
      "base_path = '../data/'\n",
      "file_2011 = 'stark_2011_events.csv'\n",
      "grades_2011 = 'anonymized11.csv'"
     ],
     "language": "python",
     "metadata": {},
     "outputs": [],
     "prompt_number": 2
    },
    {
     "cell_type": "code",
     "collapsed": false,
     "input": [
      "events = pd.read_csv('%s%s' % (base_path,file_2011),\n",
      "                     skiprows=1,\n",
      "                     names=['userId',\n",
      "                            'updatedAt',\n",
      "                            'eventType',\n",
      "                            'activityType',\n",
      "                            'activityTitle',\n",
      "                            'topicTitle',\n",
      "                            'timeMinutes',\n",
      "                            'scorePercent',\n",
      "                            'anchorValue',\n",
      "                            'anchorSelection',\n",
      "                            'topicId',\n",
      "                            'activityId',\n",
      "                            'activityEventId',\n",
      "                            'updateCount'],\n",
      "                     parse_dates=[\"updatedAt\"],\n",
      "                     na_values=[\"\\N\"],\n",
      "                     delimiter=\"\\t\"\n",
      "                     )\n",
      "\n",
      "grades = pd.read_csv('%s%s' % (base_path,grades_2011),\n",
      "                     skiprows=1,\n",
      "                     names=[\"dropcol\",\n",
      "                            \"userId\",\n",
      "                            \"Set0\",\n",
      "                            \"Set1\",\n",
      "                            \"Set2\",\n",
      "                            \"Set3\",\n",
      "                            \"Set4\",\n",
      "                            \"Set5\",\n",
      "                            \"Set6\",\n",
      "                            \"Set7\",\n",
      "                            \"Set8\",\n",
      "                            \"Set9\",\n",
      "                            \"Set10\",\n",
      "                            \"Set11\",\n",
      "                            \"Set12\",\n",
      "                            \"Set13\",\n",
      "                            \"Set14\",\n",
      "                            \"Set15\",\n",
      "                            \"Set16\",\n",
      "                            \"Set17\",\n",
      "                            \"Set18\",\n",
      "                            \"Set19\",\n",
      "                            \"Set20\",\n",
      "                            \"Set21\",\n",
      "                            \"Set22\",\n",
      "                            \"Set23\",\n",
      "                            \"Set24\",\n",
      "                            \"Set25\",\n",
      "                            \"Set26\",\n",
      "                            \"Set27\",\n",
      "                            \"Set28\",\n",
      "                            \"demerit\",\n",
      "                            \"s0\",\n",
      "                            \"s1\",\n",
      "                            \"s2\",\n",
      "                            \"s3\",\n",
      "                            \"s4\",\n",
      "                            \"s5\",\n",
      "                            \"s6\",\n",
      "                            \"s7\",\n",
      "                            \"s8\",\n",
      "                            \"s9\",\n",
      "                            \"s10\",\n",
      "                            \"s11\",\n",
      "                            \"s12\",\n",
      "                            \"s13\",\n",
      "                            \"s14\",\n",
      "                            \"s15\",\n",
      "                            \"s16\",\n",
      "                            \"s17\",\n",
      "                            \"s18\",\n",
      "                            \"s19\",\n",
      "                            \"s20\",\n",
      "                            \"s21\",\n",
      "                            \"s22\",\n",
      "                            \"s23\",\n",
      "                            \"s24\",\n",
      "                            \"s25\",\n",
      "                            \"s26\",\n",
      "                            \"s27\",\n",
      "                            \"s28\",\n",
      "                            \"set2Adj\",\n",
      "                            \"set3Adj\",\n",
      "                            \"set4Adj\",\n",
      "                            \"set5Adj\",\n",
      "                            \"set9Adj\",\n",
      "                            \"set13Adj\",\n",
      "                            \"set23Adj\",\n",
      "                            \"Cred.Code\",\n",
      "                            \"hw\",\n",
      "                            \"final\",\n",
      "                            \"course\",\n",
      "                            \"letter\",\n",
      "                            \"Comment\"])\n",
      "\n",
      "grades = grades[grades.course.apply(lambda x: pd.notnull(x))]\n",
      "del grades['dropcol']"
     ],
     "language": "python",
     "metadata": {},
     "outputs": [],
     "prompt_number": 3
    },
    {
     "cell_type": "markdown",
     "metadata": {},
     "source": [
      "### Feature engineering"
     ]
    },
    {
     "cell_type": "code",
     "collapsed": false,
     "input": [
      "# limit dataframe to \"good\" rows\n",
      "graded = set(grades.userId.values)\n",
      "events = events[(events.activityType != 'DISCUSS') & \n",
      "                (events.eventType != 'OPENED') &\n",
      "                (events.timeMinutes.apply(lambda x: pd.notnull(x))) &\n",
      "                (events.userId.apply(lambda x: x in graded))]"
     ],
     "language": "python",
     "metadata": {},
     "outputs": [],
     "prompt_number": 4
    },
    {
     "cell_type": "code",
     "collapsed": false,
     "input": [
      "# day of week lookup dict\n",
      "day_of_week = {0: 'Monday',\n",
      "               1: 'Tuesday',\n",
      "               2: 'Wednesday',\n",
      "               3: 'Thursday',\n",
      "               4: 'Friday',\n",
      "               5: 'Saturday',\n",
      "               6: 'Sunday'}\n",
      "alt_dow = {i: 'day_%d' % i for i in range(7)}\n",
      "\n",
      "# calculate time features\n",
      "total_time = events.groupby('userId').timeMinutes.sum()\n",
      "day_time = events.groupby(['userId',events.updatedAt.apply(lambda x: alt_dow[x.dayofweek])]).timeMinutes.sum().unstack()\n",
      "event_time = events.groupby(['userId','eventType']).timeMinutes.sum().unstack()\n",
      "activity_time = events.groupby(['userId',events.activityType.apply(lambda x: 'WATCH' if x == 'LISTEN' else x)]).timeMinutes.sum().unstack()\n",
      "\n",
      "# create full dataframe\n",
      "train_features = pd.DataFrame(total_time).join([day_time,event_time,activity_time]).fillna(0)\n",
      "\n",
      "# calculate percents\n",
      "for feat in train_features.keys():\n",
      "    if feat != 'timeMinutes':\n",
      "        train_features[feat] = train_features[feat] / train_features.timeMinutes\n",
      "\n",
      "del train_features['timeMinutes']"
     ],
     "language": "python",
     "metadata": {},
     "outputs": [],
     "prompt_number": 5
    },
    {
     "cell_type": "code",
     "collapsed": false,
     "input": [
      "# assignment behavior features\n",
      "submits = events[(events.activityType == 'ASSIGNMENT') & \n",
      "                 (events.eventType == 'CLOSED') & \n",
      "                 (events.anchorValue.apply(lambda x: pd.isnull(x))) &\n",
      "                 (events.scorePercent.apply(lambda x: pd.notnull(x))) &\n",
      "                 ((events.scorePercent + events.timeMinutes).apply(lambda x: x > 0))][['userId','updatedAt','topicTitle','timeMinutes','scorePercent']]\n",
      "\n",
      "avg_submit = pd.DataFrame(submits.groupby('userId').topicTitle.count() / submits.groupby('userId').topicTitle.nunique())\n",
      "avg_submit.columns = ['submits']\n",
      "\n",
      "train_features = train_features.join(avg_submit)"
     ],
     "language": "python",
     "metadata": {},
     "outputs": [
      {
       "output_type": "stream",
       "stream": "stderr",
       "text": [
        "/Users/jost/courses/mlined/env/lib/python2.7/site-packages/numexpr/necompiler.py:742: DeprecationWarning: using `oa_ndim == 0` when `op_axes` is NULL is deprecated. Use `oa_ndim == -1` or the MultiNew iterator for NumPy <1.8 compatibility\n",
        "  return compiled_ex(*arguments, **kwargs)\n"
       ]
      }
     ],
     "prompt_number": 6
    },
    {
     "cell_type": "code",
     "collapsed": false,
     "input": [
      "# Yu's video features\n",
      "yu_events = events[(events.activityType == 'WATCH') | (events.activityType == 'LISTEN')]\n",
      " \n",
      "# Counting the number of video accessed by each user\n",
      "video_map = yu_events.groupby(['userId', 'topicId']).size().unstack().fillna(value=0)\n",
      "user_video = video_map.applymap((lambda x: 1 if x > 0 else 0)).sum(axis=\"columns\")\n",
      "user_video = pd.DataFrame(user_video, columns=['VideoAccessed'])\n",
      " \n",
      "# Counting the number of suspension\n",
      "user_eventType = yu_events.groupby(['userId', 'eventType']).size().unstack()\n",
      "user_suspended = user_eventType[['SUSPENDED']].fillna(value=0)\n",
      " \n",
      "# Merge VideoAccessed and NumSuspension, then calculate the average number of suspension per video\n",
      "user_data = user_video.join(user_suspended)\n",
      "user_data = user_data[user_data.VideoAccessed > 0]\n",
      "user_data['SuspensionPerVideo'] = user_data['SUSPENDED'] / user_data['VideoAccessed']\n",
      " \n",
      "# Merge grades\n",
      "user_data = user_data.sort(columns='VideoAccessed')\n",
      " \n",
      "# Merge stuff\n",
      "train_features = train_features.join(user_data[['SuspensionPerVideo', 'VideoAccessed']]).fillna(value=0)"
     ],
     "language": "python",
     "metadata": {},
     "outputs": [],
     "prompt_number": 7
    },
    {
     "cell_type": "code",
     "collapsed": false,
     "input": [
      "# z-score columns\n",
      "for feat in train_features.keys():\n",
      "    train_features[feat] = stats.mstats.zscore(train_features[feat])"
     ],
     "language": "python",
     "metadata": {},
     "outputs": [],
     "prompt_number": 8
    },
    {
     "cell_type": "markdown",
     "metadata": {},
     "source": [
      "### Clustering"
     ]
    },
    {
     "cell_type": "code",
     "collapsed": false,
     "input": [
      "numclus = 3\n",
      "model = SpectralBiclustering(n_clusters=numclus, method='log', random_state=0)\n",
      "model.fit(train_features)"
     ],
     "language": "python",
     "metadata": {},
     "outputs": [],
     "prompt_number": 9
    },
    {
     "cell_type": "code",
     "collapsed": false,
     "input": [
      "c = Counter(model.row_labels_)\n",
      "print c"
     ],
     "language": "python",
     "metadata": {},
     "outputs": [
      {
       "output_type": "stream",
       "stream": "stdout",
       "text": [
        "Counter({0: 153, 1: 50, 2: 48})\n"
       ]
      }
     ],
     "prompt_number": 10
    },
    {
     "cell_type": "code",
     "collapsed": false,
     "input": [
      "zip(train_features.keys(),model.column_labels_)"
     ],
     "language": "python",
     "metadata": {},
     "outputs": [
      {
       "metadata": {},
       "output_type": "pyout",
       "prompt_number": 11,
       "text": [
        "[('day_0', 0),\n",
        " ('day_1', 1),\n",
        " ('day_2', 0),\n",
        " ('day_3', 0),\n",
        " ('day_4', 1),\n",
        " ('day_5', 1),\n",
        " ('day_6', 1),\n",
        " ('CLOSED', 0),\n",
        " ('SUSPENDED', 2),\n",
        " ('WORKED', 2),\n",
        " ('ASSIGNMENT', 0),\n",
        " ('PRACTICE', 2),\n",
        " ('READ', 2),\n",
        " ('WATCH', 2),\n",
        " ('submits', 1),\n",
        " ('SuspensionPerVideo', 2),\n",
        " ('VideoAccessed', 2)]"
       ]
      }
     ],
     "prompt_number": 11
    },
    {
     "cell_type": "code",
     "collapsed": false,
     "input": [
      "clus_df = pd.concat([train_features,pd.DataFrame({'clus': model.row_labels_}, index=train_features.index)],axis=1)\n",
      "\n",
      "print \"Average course grade by cluster\"\n",
      "print clus_df.reset_index().merge(grades[['userId','course','letter']], on=['userId']).groupby(['clus']).course.mean()\n",
      "a = clus_df.groupby('clus').mean().T.plot(figsize=(15,numclus*3), ylim=(-3,3), subplots=True, kind='bar')"
     ],
     "language": "python",
     "metadata": {},
     "outputs": [
      {
       "output_type": "stream",
       "stream": "stdout",
       "text": [
        "Average course grade by cluster\n",
        "clus\n",
        "0       67.004311\n",
        "1       79.724263\n",
        "2       74.836960\n",
        "Name: course, dtype: float64\n"
       ]
      },
      {
       "metadata": {},
       "output_type": "display_data",
       "png": "[encoded data removed]",
       "text": [
        "<matplotlib.figure.Figure at 0x11ec75510>"
       ]
      }
     ],
     "prompt_number": 12
    },
    {
     "cell_type": "markdown",
     "metadata": {},
     "source": [
      "### Regression for top resources while working on assignment\n",
      "Looking only at each student's max grade on the assignment"
     ]
    },
    {
     "cell_type": "code",
     "collapsed": false,
     "input": [
      "# limit events to listening/watching, practice, and reading activities\n",
      "def retitle(df):\n",
      "    newTitle = df.activityType + ': '\n",
      "    if df.topicTitle != df.activityTitle:\n",
      "        if df.activityTitle[:8] == 'Exercise' or 'Example' in df.activityTitle:\n",
      "            newTitle += df.activityTitle + ': ' + df.topicTitle\n",
      "        else:\n",
      "            newTitle += df.topicTitle + ': ' + df.activityTitle\n",
      "    else:\n",
      "        newTitle += df.topicTitle\n",
      "    return newTitle\n",
      "\n",
      "events_j = events[events.activityType.apply(lambda x: x in ['LISTEN','PRACTICE','READ','WATCH'])]\n",
      "events_j['resource'] = events_j.apply(retitle, axis=1)\n",
      "events_j['startedAt'] = events_j.apply(lambda df: df.updatedAt - np.timedelta64(int(df.timeMinutes),'m'), axis=1)\n",
      "events_j = events_j[['userId',\n",
      "                     'updatedAt',\n",
      "                     'startedAt',\n",
      "                     'activityType',\n",
      "                     'timeMinutes',\n",
      "                     'anchorValue',\n",
      "                     'resource']]"
     ],
     "language": "python",
     "metadata": {},
     "outputs": [],
     "prompt_number": 13
    },
    {
     "cell_type": "code",
     "collapsed": false,
     "input": [
      "# cartesian join in all resource events to submits data\n",
      "submits['startedAt'] = submits.apply(lambda df: df.updatedAt - np.timedelta64(int(df.timeMinutes),'m'), axis=1)\n",
      "\n",
      "submits_j = pd.merge(submits, events_j, on=['userId'])\n",
      "submits_j.rename(columns={'updatedAt_x':'updatedAt'}, inplace=True)\n",
      "print submits_j.shape"
     ],
     "language": "python",
     "metadata": {},
     "outputs": [
      {
       "output_type": "stream",
       "stream": "stdout",
       "text": [
        "(16092690, 12)\n"
       ]
      }
     ],
     "prompt_number": 14
    },
    {
     "cell_type": "code",
     "collapsed": false,
     "input": [
      "# select \"good\" resource usage events and create user/assignment vs resource usage matrix\n",
      "good_idx = ((submits_j.startedAt_y < submits_j.updatedAt) & \\\n",
      "            (submits_j.startedAt_x < submits_j.updatedAt_y))\n",
      "resources = submits_j[good_idx].groupby(['userId','topicTitle','resource']).timeMinutes_y.sum().unstack().fillna(0)\n",
      "resource_list = resources.columns"
     ],
     "language": "python",
     "metadata": {},
     "outputs": [],
     "prompt_number": 15
    },
    {
     "cell_type": "code",
     "collapsed": false,
     "input": [
      "# get assignment grades to join in\n",
      "submits_g = pd.DataFrame(submits.groupby(['userId','topicTitle']).scorePercent.max())"
     ],
     "language": "python",
     "metadata": {},
     "outputs": [],
     "prompt_number": 16
    },
    {
     "cell_type": "code",
     "collapsed": false,
     "input": [
      "resources = resources.join(submits_g).join(clus_df[['clus']], how='inner').reset_index()\n",
      "resources[resources.topicTitle.apply(lambda x: 'Assignment' in x)].groupby('topicTitle').size()"
     ],
     "language": "python",
     "metadata": {},
     "outputs": [
      {
       "metadata": {},
       "output_type": "pyout",
       "prompt_number": 17,
       "text": [
        "topicTitle\n",
        "CHAPTER 0 Assignment: Introduction                              131\n",
        "CHAPTER 1 Assignment: Preface                                    41\n",
        "CHAPTER 10 Assignment: The Meaning of Probability: Theories of Probability     78\n",
        "CHAPTER 11 Assignment: Set Theory: The Language of Probability     72\n",
        "CHAPTER 12 Assignment: Categorical Logic                         13\n",
        "CHAPTER 13 Assignment: Propositional Logic                       70\n",
        "CHAPTER 14 Assignment: Probability: Axioms and Fundament         57\n",
        "CHAPTER 15 Assignment: The \"Let's Make a Deal\" (Monty Hall) Problem     55\n",
        "CHAPTER 16 Assignment: Probability Meets Data                    67\n",
        "CHAPTER 17 Assignment: Random Variables and Discrete Distributions     55\n",
        "CHAPTER 18 Assignment: The Long Run and the Expected Value       56\n",
        "CHAPTER 19 Assignment: Standard Error                            58\n",
        "CHAPTER 2 Assignment: Reasoning and Fallacies                   121\n",
        "CHAPTER 20 Assignment: The Normal Curve, The Central Limit Theorem, and Markov's and Chebychev's Inequalities for Random Variables     58\n",
        "CHAPTER 21 Assignment: Sampling                                  59\n",
        "CHAPTER 22 Assignment: Estimating Parameters from Simple Random Samples     55\n",
        "CHAPTER 23 Assignment: Confidence Intervals                      44\n",
        "CHAPTER 24 Assignment: Hypothesis Testing - Does Chance Explain the Results?     45\n",
        "CHAPTER 25 Assignment: Does Treatment Have an Effect?            37\n",
        "CHAPTER 26 Assignment: Testing Equality of Two Percentages        8\n",
        "CHAPTER 27 Assignment: Approximate Hypothesis Tests: the z Test and the t Test      4\n",
        "CHAPTER 28 Assignment: The Multinomial Distribution and the Chi-Squared Test for Goodness of Fit      2\n",
        "CHAPTER 3 Assignment: Statistics                                112\n",
        "CHAPTER 4 Assignment: Measures of Location and Spread           117\n",
        "CHAPTER 5 Assignment: Multivariate Data and Scatterplots        100\n",
        "CHAPTER 6 Assignment: Correlation and Association                96\n",
        "CHAPTER 7 Assignment: Regression                                 86\n",
        "CHAPTER 8 Assignment: Errors in Regression                       98\n",
        "CHAPTER 9 Assignment: Counting                                   83\n",
        "dtype: int64"
       ]
      }
     ],
     "prompt_number": 17
    },
    {
     "cell_type": "code",
     "collapsed": false,
     "input": [
      "assign_name = 'CHAPTER 11 Assignment: Set Theory: The Language of Probability'\n",
      "regmodel = LinearRegression()\n",
      "\n",
      "for i in range(3):\n",
      "    regmodel.fit(resources[(resources.topicTitle == assign_name) &\n",
      "                           (resources.clus == i)][resource_list],\n",
      "                 resources[(resources.topicTitle == assign_name) &\n",
      "                           (resources.clus == i)][['scorePercent']])\n",
      "    print 'CLUSTER %d' % i\n",
      "    for n, c in sorted(zip(resource_list,regmodel.coef_.flatten()), key=lambda x: x[1], reverse=True)[:10]:\n",
      "        n = n.replace(': Set Theory: The Language of Probability Introduction','')\n",
      "        print '%s (%g)' % (n, c)\n",
      "    print\n",
      "    print"
     ],
     "language": "python",
     "metadata": {},
     "outputs": [
      {
       "output_type": "stream",
       "stream": "stdout",
       "text": [
        "CLUSTER 0\n",
        "WATCH: CHAPTER 11 Introduction: Set Theory: The Language of Probability (13.9623)\n",
        "WATCH: CHAPTER 13 Introduction: Propositional Logic: CHAPTER 13: Propositional Logic Introduction (0.662417)\n",
        "READ: CHAPTER 14 Summary: Probability: Axioms and Fundaments: Probability: Axioms and Fundaments Summary (0.216791)\n",
        "READ: Naive Set Theory (0.123823)\n",
        "READ: Logical Operations (0.0993626)\n",
        "READ: The Multiplication Rule (0.0993626)\n",
        "READ: CHAPTER 11 Summary: Set Theory: The Language of Probability: Summary (0.0042435)\n",
        "LISTEN: An Example of Exercise 15-4: The \"Let's Make a Deal\" (Monty Hall) Problem Conclusions (1.12459e-13)\n",
        "LISTEN: Affine transformations: Affine Transformations (7.9492e-14)\n",
        "LISTEN: An Example of Exercise 18-7: Expected Values of Some Common Distributions (9.65894e-15)\n",
        "\n",
        "\n",
        "CLUSTER 1\n",
        "WATCH: CHAPTER 13 Introduction: Propositional Logic: CHAPTER 13: Propositional Logic Introduction (146.349)\n",
        "WATCH: CHAPTER 11 Introduction: Set Theory: The Language of Probability (19.6839)\n",
        "WATCH: Valid Arguments Versus Sound Arguments (4.29493)\n",
        "READ: Logical Operations (3.83504)\n",
        "WATCH: CHAPTER 10 Summary: The Meaning of Probability: Theories of Probability: Summary (2.94337)\n",
        "WATCH: Example 10-1: Probability of winning the Lotto Jackpot: Theories of Probability Exercises (1.71696)\n",
        "PRACTICE: Exercise 10-6: Theories of Probability Exercises (1.47168)\n",
        "READ: CHAPTER 13 Introduction: Propositional Logic: Propositional Logic Introduction (1.4434)\n",
        "READ: CHAPTER 11 Introduction: Set Theory: The Language of Probability (0.428089)\n",
        "READ: Conditional Probability (0.377932)\n",
        "\n",
        "\n",
        "CLUSTER 2\n",
        "WATCH: CHAPTER 11 Introduction: Set Theory: The Language of Probability (1.96433)\n",
        "READ: CHAPTER 19 Introduction: Standard Error (1.51381)\n",
        "PRACTICE: Exercise 11-6: Connecting Probability to Set Theory (0.851519)\n",
        "READ: CHAPTER 13 Introduction: Propositional Logic: Propositional Logic Introduction (0.720175)\n",
        "PRACTICE: Exercise 11-8: Connecting Probability to Set Theory (0.412858)\n",
        "PRACTICE: Exercise 11-7: Connecting Probability to Set Theory (0.3323)\n",
        "READ: Naive Set Theory (0.0692065)\n",
        "READ: CHAPTER 11 Introduction: Set Theory: The Language of Probability (0.0452696)\n",
        "READ: CHAPTER 15 Introduction: \"The Let's Make a Deal\" (Monty Hall) Problem (0.041926)\n",
        "READ: CHAPTER 14 Summary: Probability: Axioms and Fundaments: Probability: Axioms and Fundaments Summary (0.000295461)\n",
        "\n",
        "\n"
       ]
      }
     ],
     "prompt_number": 21
    },
    {
     "cell_type": "code",
     "collapsed": false,
     "input": [],
     "language": "python",
     "metadata": {},
     "outputs": []
    }
   ],
   "metadata": {}
  }
 ]
}
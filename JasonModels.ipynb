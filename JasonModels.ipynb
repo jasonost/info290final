{
 "metadata": {
  "gist_id": "8bf5aad33df4d2917de1",
  "name": "",
  "signature": "sha256:8d55a0c2053c9497bbda77f082128bd720952c0940a3f158854657dcb85632b2"
 },
 "nbformat": 3,
 "nbformat_minor": 0,
 "worksheets": [
  {
   "cells": [
    {
     "cell_type": "code",
     "collapsed": false,
     "input": [
      "import pandas as pd, numpy as np, datetime, random, cPickle as pickle\n",
      "from sklearn.cluster import KMeans, DBSCAN\n",
      "from sklearn.cluster.bicluster import SpectralBiclustering\n",
      "from sklearn.linear_model import LinearRegression\n",
      "from scipy import stats\n",
      "from collections import Counter\n",
      "from __future__ import division\n",
      "pd.set_option('max_colwidth', 200)\n",
      "pd.set_option('display.max_rows', 500)\n",
      "%matplotlib inline"
     ],
     "language": "python",
     "metadata": {},
     "outputs": [],
     "prompt_number": 1
    },
    {
     "cell_type": "markdown",
     "metadata": {},
     "source": [
      "### Read in data"
     ]
    },
    {
     "cell_type": "code",
     "collapsed": false,
     "input": [
      "base_path = '../data/'\n",
      "file_2011 = 'stark_2011_events.csv'\n",
      "grades_2011 = 'anonymized11.csv'"
     ],
     "language": "python",
     "metadata": {},
     "outputs": [],
     "prompt_number": 2
    },
    {
     "cell_type": "code",
     "collapsed": false,
     "input": [
      "events = pd.read_csv('%s%s' % (base_path,file_2011),\n",
      "                     skiprows=1,\n",
      "                     names=['userId',\n",
      "                            'updatedAt',\n",
      "                            'eventType',\n",
      "                            'activityType',\n",
      "                            'activityTitle',\n",
      "                            'topicTitle',\n",
      "                            'timeMinutes',\n",
      "                            'scorePercent',\n",
      "                            'anchorValue',\n",
      "                            'anchorSelection',\n",
      "                            'topicId',\n",
      "                            'activityId',\n",
      "                            'activityEventId',\n",
      "                            'updateCount'],\n",
      "                     parse_dates=[\"updatedAt\"],\n",
      "                     na_values=[\"\\N\"],\n",
      "                     delimiter=\"\\t\"\n",
      "                     )\n",
      "\n",
      "grades = pd.read_csv('%s%s' % (base_path,grades_2011),\n",
      "                     skiprows=1,\n",
      "                     names=[\"dropcol\",\n",
      "                            \"userId\",\n",
      "                            \"Set0\",\n",
      "                            \"Set1\",\n",
      "                            \"Set2\",\n",
      "                            \"Set3\",\n",
      "                            \"Set4\",\n",
      "                            \"Set5\",\n",
      "                            \"Set6\",\n",
      "                            \"Set7\",\n",
      "                            \"Set8\",\n",
      "                            \"Set9\",\n",
      "                            \"Set10\",\n",
      "                            \"Set11\",\n",
      "                            \"Set12\",\n",
      "                            \"Set13\",\n",
      "                            \"Set14\",\n",
      "                            \"Set15\",\n",
      "                            \"Set16\",\n",
      "                            \"Set17\",\n",
      "                            \"Set18\",\n",
      "                            \"Set19\",\n",
      "                            \"Set20\",\n",
      "                            \"Set21\",\n",
      "                            \"Set22\",\n",
      "                            \"Set23\",\n",
      "                            \"Set24\",\n",
      "                            \"Set25\",\n",
      "                            \"Set26\",\n",
      "                            \"Set27\",\n",
      "                            \"Set28\",\n",
      "                            \"demerit\",\n",
      "                            \"s0\",\n",
      "                            \"s1\",\n",
      "                            \"s2\",\n",
      "                            \"s3\",\n",
      "                            \"s4\",\n",
      "                            \"s5\",\n",
      "                            \"s6\",\n",
      "                            \"s7\",\n",
      "                            \"s8\",\n",
      "                            \"s9\",\n",
      "                            \"s10\",\n",
      "                            \"s11\",\n",
      "                            \"s12\",\n",
      "                            \"s13\",\n",
      "                            \"s14\",\n",
      "                            \"s15\",\n",
      "                            \"s16\",\n",
      "                            \"s17\",\n",
      "                            \"s18\",\n",
      "                            \"s19\",\n",
      "                            \"s20\",\n",
      "                            \"s21\",\n",
      "                            \"s22\",\n",
      "                            \"s23\",\n",
      "                            \"s24\",\n",
      "                            \"s25\",\n",
      "                            \"s26\",\n",
      "                            \"s27\",\n",
      "                            \"s28\",\n",
      "                            \"set2Adj\",\n",
      "                            \"set3Adj\",\n",
      "                            \"set4Adj\",\n",
      "                            \"set5Adj\",\n",
      "                            \"set9Adj\",\n",
      "                            \"set13Adj\",\n",
      "                            \"set23Adj\",\n",
      "                            \"Cred.Code\",\n",
      "                            \"hw\",\n",
      "                            \"final\",\n",
      "                            \"course\",\n",
      "                            \"letter\",\n",
      "                            \"Comment\"])\n",
      "\n",
      "grades = grades[grades.course.apply(lambda x: pd.notnull(x))]\n",
      "del grades['dropcol']"
     ],
     "language": "python",
     "metadata": {},
     "outputs": [],
     "prompt_number": 3
    },
    {
     "cell_type": "markdown",
     "metadata": {},
     "source": [
      "### Feature engineering"
     ]
    },
    {
     "cell_type": "code",
     "collapsed": false,
     "input": [
      "# limit dataframe to \"good\" rows\n",
      "graded = set(grades.userId.values)\n",
      "events = events[(events.activityType != 'DISCUSS') & \n",
      "                (events.eventType != 'OPENED') &\n",
      "                (events.timeMinutes.apply(lambda x: pd.notnull(x))) &\n",
      "                (events.userId.apply(lambda x: x in graded))]"
     ],
     "language": "python",
     "metadata": {},
     "outputs": [],
     "prompt_number": 4
    },
    {
     "cell_type": "code",
     "collapsed": false,
     "input": [
      "# day of week lookup dict\n",
      "day_of_week = {0: 'Monday',\n",
      "               1: 'Tuesday',\n",
      "               2: 'Wednesday',\n",
      "               3: 'Thursday',\n",
      "               4: 'Friday',\n",
      "               5: 'Saturday',\n",
      "               6: 'Sunday'}\n",
      "alt_dow = {i: 'day_%d' % i for i in range(7)}\n",
      "\n",
      "# calculate time features\n",
      "total_time = events.groupby('userId').timeMinutes.sum()\n",
      "day_time = events.groupby(['userId',events.updatedAt.apply(lambda x: alt_dow[x.dayofweek])]).timeMinutes.sum().unstack()\n",
      "event_time = events.groupby(['userId','eventType']).timeMinutes.sum().unstack()\n",
      "activity_time = events.groupby(['userId',events.activityType.apply(lambda x: 'WATCH' if x == 'LISTEN' else x)]).timeMinutes.sum().unstack()\n",
      "\n",
      "# create full dataframe\n",
      "train_features = pd.DataFrame(total_time).join([day_time,event_time,activity_time]).fillna(0)\n",
      "\n",
      "# calculate percents\n",
      "for feat in train_features.keys():\n",
      "    if feat != 'timeMinutes':\n",
      "        train_features[feat] = train_features[feat] / train_features.timeMinutes\n",
      "\n",
      "del train_features['timeMinutes']"
     ],
     "language": "python",
     "metadata": {},
     "outputs": [],
     "prompt_number": 5
    },
    {
     "cell_type": "code",
     "collapsed": false,
     "input": [
      "# assignment behavior features\n",
      "submits = events[(events.activityType == 'ASSIGNMENT') & \n",
      "                 (events.eventType == 'CLOSED') & \n",
      "                 (events.anchorValue.apply(lambda x: pd.isnull(x))) &\n",
      "                 (events.scorePercent.apply(lambda x: pd.notnull(x))) &\n",
      "                 ((events.scorePercent + events.timeMinutes).apply(lambda x: x > 0))][['userId','updatedAt','topicTitle','timeMinutes','scorePercent']]\n",
      "\n",
      "avg_submit = pd.DataFrame(submits.groupby('userId').topicTitle.count() / submits.groupby('userId').topicTitle.nunique())\n",
      "avg_submit.columns = ['submits']\n",
      "\n",
      "train_features = train_features.join(avg_submit)"
     ],
     "language": "python",
     "metadata": {},
     "outputs": [
      {
       "output_type": "stream",
       "stream": "stderr",
       "text": [
        "/Users/jost/courses/mlined/env/lib/python2.7/site-packages/numexpr/necompiler.py:742: DeprecationWarning: using `oa_ndim == 0` when `op_axes` is NULL is deprecated. Use `oa_ndim == -1` or the MultiNew iterator for NumPy <1.8 compatibility\n",
        "  return compiled_ex(*arguments, **kwargs)\n"
       ]
      }
     ],
     "prompt_number": 6
    },
    {
     "cell_type": "code",
     "collapsed": false,
     "input": [
      "# Yu's video features\n",
      "yu_events = events[(events.activityType == 'WATCH') | (events.activityType == 'LISTEN')]\n",
      " \n",
      "# Counting the number of video accessed by each user\n",
      "video_map = yu_events.groupby(['userId', 'topicId']).size().unstack().fillna(value=0)\n",
      "user_video = video_map.applymap((lambda x: 1 if x > 0 else 0)).sum(axis=\"columns\")\n",
      "user_video = pd.DataFrame(user_video, columns=['VideoAccessed'])\n",
      " \n",
      "# Counting the number of suspension\n",
      "user_eventType = yu_events.groupby(['userId', 'eventType']).size().unstack()\n",
      "user_suspended = user_eventType[['SUSPENDED']].fillna(value=0)\n",
      " \n",
      "# Merge VideoAccessed and NumSuspension, then calculate the average number of suspension per video\n",
      "user_data = user_video.join(user_suspended)\n",
      "user_data = user_data[user_data.VideoAccessed > 0]\n",
      "user_data['SuspensionPerVideo'] = user_data['SUSPENDED'] / user_data['VideoAccessed']\n",
      " \n",
      "# Merge grades\n",
      "user_data = user_data.sort(columns='VideoAccessed')\n",
      " \n",
      "# Merge stuff\n",
      "train_features = train_features.join(user_data[['SuspensionPerVideo', 'VideoAccessed']]).fillna(value=0)"
     ],
     "language": "python",
     "metadata": {},
     "outputs": [],
     "prompt_number": 8
    },
    {
     "cell_type": "code",
     "collapsed": false,
     "input": [
      "# z-score columns\n",
      "for feat in train_features.keys():\n",
      "    train_features[feat] = stats.mstats.zscore(train_features[feat])"
     ],
     "language": "python",
     "metadata": {},
     "outputs": [],
     "prompt_number": 9
    },
    {
     "cell_type": "markdown",
     "metadata": {},
     "source": [
      "### Clustering"
     ]
    },
    {
     "cell_type": "code",
     "collapsed": false,
     "input": [
      "numclus = 5\n",
      "model = SpectralBiclustering(n_clusters=numclus, method='log', random_state=0)\n",
      "model.fit(train_features)"
     ],
     "language": "python",
     "metadata": {},
     "outputs": [],
     "prompt_number": 10
    },
    {
     "cell_type": "code",
     "collapsed": false,
     "input": [
      "c = Counter(model.row_labels_)\n",
      "print c"
     ],
     "language": "python",
     "metadata": {},
     "outputs": [
      {
       "output_type": "stream",
       "stream": "stdout",
       "text": [
        "Counter({0: 81, 4: 66, 2: 41, 1: 35, 3: 28})\n"
       ]
      }
     ],
     "prompt_number": 11
    },
    {
     "cell_type": "code",
     "collapsed": false,
     "input": [
      "zip(train_features.keys(),model.column_labels_)"
     ],
     "language": "python",
     "metadata": {},
     "outputs": [
      {
       "metadata": {},
       "output_type": "pyout",
       "prompt_number": 12,
       "text": [
        "[('day_0', 0),\n",
        " ('day_1', 1),\n",
        " ('day_2', 1),\n",
        " ('day_3', 3),\n",
        " ('day_4', 3),\n",
        " ('day_5', 0),\n",
        " ('day_6', 0),\n",
        " ('CLOSED', 4),\n",
        " ('SUSPENDED', 0),\n",
        " ('WORKED', 2),\n",
        " ('ASSIGNMENT', 4),\n",
        " ('PRACTICE', 2),\n",
        " ('READ', 2),\n",
        " ('WATCH', 0),\n",
        " ('submits', 1),\n",
        " ('SuspensionPerVideo', 0),\n",
        " ('VideoAccessed', 2)]"
       ]
      }
     ],
     "prompt_number": 12
    },
    {
     "cell_type": "code",
     "collapsed": false,
     "input": [
      "clus_df = pd.concat([train_features,pd.DataFrame({'clus': model.row_labels_}, index=train_features.index)],axis=1)\n",
      "\n",
      "print \"Average course grade by cluster\"\n",
      "print clus_df.reset_index().merge(grades[['userId','course','letter']], on=['userId']).groupby(['clus']).course.mean()\n",
      "a = clus_df.groupby('clus').mean().T.plot(figsize=(15,numclus*3), ylim=(-3,3), subplots=True, kind='bar')"
     ],
     "language": "python",
     "metadata": {},
     "outputs": [
      {
       "output_type": "stream",
       "stream": "stdout",
       "text": [
        "Average course grade by cluster\n",
        "clus\n",
        "0       65.125143\n",
        "1       65.443347\n",
        "2       80.383650\n",
        "3       71.705492\n",
        "4       75.165299\n",
        "Name: course, dtype: float64\n"
       ]
      },
      {
       "metadata": {},
       "output_type": "display_data",
       "png": "[encoded data removed]",
       "text": [
        "<matplotlib.figure.Figure at 0x11ed55850>"
       ]
      }
     ],
     "prompt_number": 13
    },
    {
     "cell_type": "markdown",
     "metadata": {},
     "source": [
      "### Resource usage during assignments"
     ]
    },
    {
     "cell_type": "code",
     "collapsed": false,
     "input": [
      "# limit events to listening/watching, practice, and reading activities\n",
      "def retitle(df):\n",
      "    newTitle = df.activityType + ': '\n",
      "    if df.topicTitle != df.activityTitle:\n",
      "        if df.activityTitle[:8] == 'Exercise' or 'Example' in df.activityTitle:\n",
      "            newTitle += df.activityTitle + ': ' + df.topicTitle\n",
      "        else:\n",
      "            newTitle += df.topicTitle + ': ' + df.activityTitle\n",
      "    else:\n",
      "        newTitle += df.topicTitle\n",
      "    return newTitle\n",
      "\n",
      "events_j = events[events.activityType.apply(lambda x: x in ['LISTEN','PRACTICE','READ','WATCH'])]\n",
      "events_j['resource'] = events_j.apply(retitle, axis=1)\n",
      "events_j['updatedAt_1hrs'] = events_j.updatedAt.apply(lambda x: x - np.timedelta64(1,'h'))\n",
      "events_j['updatedAt_3hrs'] = events_j.updatedAt.apply(lambda x: x - np.timedelta64(3,'h'))\n",
      "events_j['updatedAt_6hrs'] = events_j.updatedAt.apply(lambda x: x - np.timedelta64(6,'h'))\n",
      "events_j = events_j[['userId',\n",
      "                     'updatedAt',\n",
      "                     'activityType',\n",
      "                     'timeMinutes',\n",
      "                     'anchorValue',\n",
      "                     'resource',\n",
      "                     'updatedAt_1hrs',\n",
      "                     'updatedAt_3hrs',\n",
      "                     'updatedAt_6hrs']]"
     ],
     "language": "python",
     "metadata": {},
     "outputs": [],
     "prompt_number": 14
    },
    {
     "cell_type": "code",
     "collapsed": false,
     "input": [
      "# cartesian join in all resource events to submits data\n",
      "submits_j = pd.merge(submits, events_j, on=['userId'])\n",
      "submits_j.rename(columns={'updatedAt_x':'updatedAt'}, inplace=True)\n",
      "print submits_j.shape"
     ],
     "language": "python",
     "metadata": {},
     "outputs": [
      {
       "output_type": "stream",
       "stream": "stdout",
       "text": [
        "(16092690, 13)\n"
       ]
      }
     ],
     "prompt_number": 15
    },
    {
     "cell_type": "code",
     "collapsed": false,
     "input": [
      "# select \"good\" resource usage events and create user/assignment vs resource usage matrix\n",
      "good_idx = (submits_j.updatedAt < submits_j.updatedAt_y) & (submits_j.updatedAt > submits_j.updatedAt_1hrs)\n",
      "resources = submits_j[good_idx].groupby(['userId','topicTitle','updatedAt','resource']).timeMinutes_y.sum().unstack().fillna(0)\n",
      "resource_list = resources.columns"
     ],
     "language": "python",
     "metadata": {},
     "outputs": [],
     "prompt_number": 16
    },
    {
     "cell_type": "code",
     "collapsed": false,
     "input": [
      "# get assignment grades to join in\n",
      "submits_g = submits[['userId','topicTitle','updatedAt','scorePercent']].set_index(['userId','topicTitle','updatedAt'])"
     ],
     "language": "python",
     "metadata": {},
     "outputs": [],
     "prompt_number": 17
    },
    {
     "cell_type": "code",
     "collapsed": false,
     "input": [
      "resources = resources.join(submits_g).join(clus_df[['clus']], how='inner').reset_index()"
     ],
     "language": "python",
     "metadata": {},
     "outputs": [],
     "prompt_number": 18
    },
    {
     "cell_type": "markdown",
     "metadata": {},
     "source": [
      "### Regression for top resources"
     ]
    },
    {
     "cell_type": "code",
     "collapsed": false,
     "input": [
      "regmodel = LinearRegression()\n",
      "regmodel.fit(resources[(resources.topicTitle == 'CHAPTER 5 Assignment: Multivariate Data and Scatterplots') &\n",
      "                       (resources.clus == 1)][resource_list],\n",
      "             resources[(resources.topicTitle == 'CHAPTER 5 Assignment: Multivariate Data and Scatterplots') &\n",
      "                       (resources.clus == 1)][['scorePercent']])"
     ],
     "language": "python",
     "metadata": {},
     "outputs": [
      {
       "metadata": {},
       "output_type": "pyout",
       "prompt_number": 19,
       "text": [
        "LinearRegression(copy_X=True, fit_intercept=True, normalize=False)"
       ]
      }
     ],
     "prompt_number": 19
    },
    {
     "cell_type": "code",
     "collapsed": false,
     "input": [
      "sorted(zip(resource_list,regmodel.coef_.flatten()), key=lambda x: x[1], reverse=True)[:10]"
     ],
     "language": "python",
     "metadata": {},
     "outputs": [
      {
       "metadata": {},
       "output_type": "pyout",
       "prompt_number": 20,
       "text": [
        "[('WATCH: The Correlation Coefficient', 8.8298142521218441),\n",
        " ('READ: CHAPTER 4  Summary: Measures of Location and Spread: Summary',\n",
        "  3.9279749051343957),\n",
        " ('WATCH: An Example of Exercise 6-3: The Correlation Coefficient',\n",
        "  2.7984377962408362),\n",
        " ('READ: Example 6-2: Computing r: Computing r', 2.5000000000000369),\n",
        " ('PRACTICE: Exercise 5-9: Association', 1.5255638275821124),\n",
        " ('READ: Nonlinear Association', 1.4413077567750707),\n",
        " ('WATCH: Ecological Correlation', 1.2366721591736485),\n",
        " ('PRACTICE: Exercise 6-7: Computing r', 1.0000000000000031),\n",
        " ('PRACTICE: Exercise 5-8: Association', 0.7627819137910562),\n",
        " ('READ: Ecological Correlation', 0.53000235393153061)]"
       ]
      }
     ],
     "prompt_number": 20
    },
    {
     "cell_type": "code",
     "collapsed": false,
     "input": [
      "regmodel.fit(resources[(resources.topicTitle == 'CHAPTER 5 Assignment: Multivariate Data and Scatterplots') &\n",
      "                       (resources.clus == 4)][resource_list],\n",
      "             resources[(resources.topicTitle == 'CHAPTER 5 Assignment: Multivariate Data and Scatterplots') &\n",
      "                       (resources.clus == 4)][['scorePercent']])"
     ],
     "language": "python",
     "metadata": {},
     "outputs": [
      {
       "metadata": {},
       "output_type": "pyout",
       "prompt_number": 21,
       "text": [
        "LinearRegression(copy_X=True, fit_intercept=True, normalize=False)"
       ]
      }
     ],
     "prompt_number": 21
    },
    {
     "cell_type": "code",
     "collapsed": false,
     "input": [
      "sorted(zip(resource_list,regmodel.coef_.flatten()), key=lambda x: x[1], reverse=True)[:10]"
     ],
     "language": "python",
     "metadata": {},
     "outputs": [
      {
       "metadata": {},
       "output_type": "pyout",
       "prompt_number": 22,
       "text": [
        "[('READ: The Correlation Coefficient', 1.9510561040600627),\n",
        " ('READ: CHAPTER 4  Summary: Measures of Location and Spread: Summary',\n",
        "  1.5193266897237585),\n",
        " ('READ: CHAPTER 6 Summary: Correlation and Association: Summary',\n",
        "  1.4374086385787779),\n",
        " ('READ: Outliers on the Correlation Coefficient', 1.1764705882352964),\n",
        " ('READ: Describing Scatterplots', 1.0397064019051132),\n",
        " ('READ: The Range and IQR and SD', 0.75565129152268451),\n",
        " ('READ: Outliers', 0.51136864101397894),\n",
        " ('READ: Post Hoc Ergo Propter Hoc', 0.50508855290162735),\n",
        " ('READ: Spread or Variability', 0.44455225518522246),\n",
        " ('PRACTICE: Exercise 5-7: Association', 0.34990648468385421)]"
       ]
      }
     ],
     "prompt_number": 22
    },
    {
     "cell_type": "code",
     "collapsed": false,
     "input": [],
     "language": "python",
     "metadata": {},
     "outputs": [],
     "prompt_number": 22
    },
    {
     "cell_type": "code",
     "collapsed": false,
     "input": [],
     "language": "python",
     "metadata": {},
     "outputs": [],
     "prompt_number": 22
    },
    {
     "cell_type": "code",
     "collapsed": false,
     "input": [],
     "language": "python",
     "metadata": {},
     "outputs": [],
     "prompt_number": 22
    },
    {
     "cell_type": "code",
     "collapsed": false,
     "input": [],
     "language": "python",
     "metadata": {},
     "outputs": [],
     "prompt_number": 22
    },
    {
     "cell_type": "markdown",
     "metadata": {},
     "source": [
      "### Alternate calculation: only resources viewed while working on assignment\n",
      "Also looking only at each student's max grade on the assignment"
     ]
    },
    {
     "cell_type": "code",
     "collapsed": false,
     "input": [
      "# limit events to listening/watching, practice, and reading activities\n",
      "def retitle(df):\n",
      "    newTitle = df.activityType + ': '\n",
      "    if df.topicTitle != df.activityTitle:\n",
      "        if df.activityTitle[:8] == 'Exercise' or 'Example' in df.activityTitle:\n",
      "            newTitle += df.activityTitle + ': ' + df.topicTitle\n",
      "        else:\n",
      "            newTitle += df.topicTitle + ': ' + df.activityTitle\n",
      "    else:\n",
      "        newTitle += df.topicTitle\n",
      "    return newTitle\n",
      "\n",
      "events_j = events[events.activityType.apply(lambda x: x in ['LISTEN','PRACTICE','READ','WATCH'])]\n",
      "events_j['resource'] = events_j.apply(retitle, axis=1)\n",
      "events_j['startedAt'] = events_j.apply(lambda df: df.updatedAt - np.timedelta64(int(df.timeMinutes),'m'), axis=1)\n",
      "events_j = events_j[['userId',\n",
      "                     'updatedAt',\n",
      "                     'startedAt',\n",
      "                     'activityType',\n",
      "                     'timeMinutes',\n",
      "                     'anchorValue',\n",
      "                     'resource']]"
     ],
     "language": "python",
     "metadata": {},
     "outputs": [],
     "prompt_number": 23
    },
    {
     "cell_type": "code",
     "collapsed": false,
     "input": [
      "# cartesian join in all resource events to submits data\n",
      "submits['startedAt'] = submits.apply(lambda df: df.updatedAt - np.timedelta64(int(df.timeMinutes),'m'), axis=1)\n",
      "\n",
      "submits_j = pd.merge(submits, events_j, on=['userId'])\n",
      "submits_j.rename(columns={'updatedAt_x':'updatedAt'}, inplace=True)\n",
      "print submits_j.shape"
     ],
     "language": "python",
     "metadata": {},
     "outputs": [
      {
       "output_type": "stream",
       "stream": "stdout",
       "text": [
        "(16092690, 12)\n"
       ]
      }
     ],
     "prompt_number": 24
    },
    {
     "cell_type": "code",
     "collapsed": false,
     "input": [
      "# select \"good\" resource usage events and create user/assignment vs resource usage matrix\n",
      "good_idx = ((submits_j.startedAt_y < submits_j.updatedAt) & \\\n",
      "            (submits_j.startedAt_x < submits_j.updatedAt_y))\n",
      "resources = submits_j[good_idx].groupby(['userId','topicTitle','resource']).timeMinutes_y.sum().unstack().fillna(0)\n",
      "resource_list = resources.columns"
     ],
     "language": "python",
     "metadata": {},
     "outputs": [],
     "prompt_number": 25
    },
    {
     "cell_type": "code",
     "collapsed": false,
     "input": [
      "# get assignment grades to join in\n",
      "submits_g = pd.DataFrame(submits.groupby(['userId','topicTitle']).scorePercent.max())"
     ],
     "language": "python",
     "metadata": {},
     "outputs": [],
     "prompt_number": 26
    },
    {
     "cell_type": "code",
     "collapsed": false,
     "input": [
      "resources = resources.join(submits_g).join(clus_df[['clus']], how='inner').reset_index()"
     ],
     "language": "python",
     "metadata": {},
     "outputs": [],
     "prompt_number": 27
    },
    {
     "cell_type": "code",
     "collapsed": false,
     "input": [
      "regmodel = LinearRegression()\n",
      "regmodel.fit(resources[(resources.topicTitle == 'CHAPTER 5 Assignment: Multivariate Data and Scatterplots') &\n",
      "                       (resources.clus == 1)][resource_list],\n",
      "             resources[(resources.topicTitle == 'CHAPTER 5 Assignment: Multivariate Data and Scatterplots') &\n",
      "                       (resources.clus == 1)][['scorePercent']])"
     ],
     "language": "python",
     "metadata": {},
     "outputs": [
      {
       "metadata": {},
       "output_type": "pyout",
       "prompt_number": 28,
       "text": [
        "LinearRegression(copy_X=True, fit_intercept=True, normalize=False)"
       ]
      }
     ],
     "prompt_number": 28
    },
    {
     "cell_type": "code",
     "collapsed": false,
     "input": [
      "sorted(zip(resource_list,regmodel.coef_.flatten()), key=lambda x: x[1], reverse=True)[:10]"
     ],
     "language": "python",
     "metadata": {},
     "outputs": [
      {
       "metadata": {},
       "output_type": "pyout",
       "prompt_number": 29,
       "text": [
        "[('WATCH: An Example of Exercise 5-12: Post Hoc Ergo Propter Hoc',\n",
        "  127.52402355770616),\n",
        " ('READ: Linearity and Nonlinearity', 3.8911925238187863),\n",
        " ('WATCH: Multivariate Data', 2.1245663602396547),\n",
        " ('PRACTICE: Exercise 5-10: Association', 1.9307500888728533),\n",
        " ('WATCH: Describing Scatterplots', 1.7054352003912865),\n",
        " ('WATCH: CHAPTER 5 Introduction: Multivariate Data and Scatterplots: Multivariate Data and Scatterplots',\n",
        "  1.4915934520749354),\n",
        " ('WATCH: Scatterplots', 0.75425480567994829),\n",
        " ('READ: CHAPTER 5 Summary: Multivariate Data and Scatterplots: Summary',\n",
        "  0.68052888193099581),\n",
        " ('READ: CHAPTER 6 Introduction: Correlation and Association : Correlation and Association Introduction',\n",
        "  0.54272772030308403),\n",
        " ('WATCH: Post Hoc Ergo Propter Hoc', 0.52205770822653919)]"
       ]
      }
     ],
     "prompt_number": 29
    },
    {
     "cell_type": "code",
     "collapsed": false,
     "input": [
      "regmodel.fit(resources[(resources.topicTitle == 'CHAPTER 5 Assignment: Multivariate Data and Scatterplots') &\n",
      "                       (resources.clus == 4)][resource_list],\n",
      "             resources[(resources.topicTitle == 'CHAPTER 5 Assignment: Multivariate Data and Scatterplots') &\n",
      "                       (resources.clus == 4)][['scorePercent']])"
     ],
     "language": "python",
     "metadata": {},
     "outputs": [
      {
       "metadata": {},
       "output_type": "pyout",
       "prompt_number": 30,
       "text": [
        "LinearRegression(copy_X=True, fit_intercept=True, normalize=False)"
       ]
      }
     ],
     "prompt_number": 30
    },
    {
     "cell_type": "code",
     "collapsed": false,
     "input": [
      "sorted(zip(resource_list,regmodel.coef_.flatten()), key=lambda x: x[1], reverse=True)[:10]"
     ],
     "language": "python",
     "metadata": {},
     "outputs": [
      {
       "metadata": {},
       "output_type": "pyout",
       "prompt_number": 31,
       "text": [
        "[('PRACTICE: Exercise 5-7: Association', 3.5294899618219278),\n",
        " ('READ: Spread or Variability', 0.91504331865165067),\n",
        " ('PRACTICE: Exercise 5-5: Scatterplot Exercises', 0.74956998769427774),\n",
        " ('WATCH: Association', 0.4667931083722075),\n",
        " ('READ: CHAPTER 6 Summary: Correlation and Association: Summary',\n",
        "  0.31648018220961288),\n",
        " ('READ: Homoscedasticity and Heteroscedasticity', 0.15824009110480552),\n",
        " ('READ: Outliers', 0.045211454601372741),\n",
        " ('READ: Association', 0.037477268458275065),\n",
        " ('READ: Post Hoc Ergo Propter Hoc', 0.031648018220961173),\n",
        " ('READ: Linearity and Nonlinearity', 0.02637334851746833)]"
       ]
      }
     ],
     "prompt_number": 31
    },
    {
     "cell_type": "code",
     "collapsed": false,
     "input": [],
     "language": "python",
     "metadata": {},
     "outputs": []
    }
   ],
   "metadata": {}
  }
 ]
}
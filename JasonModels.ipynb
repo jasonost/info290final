{
 "metadata": {
  "gist_id": "8bf5aad33df4d2917de1",
  "name": "",
  "signature": "sha256:688b60a030ce95259395a4a6c9125053a47ac05d4958fca9262c78a44d217cd4"
 },
 "nbformat": 3,
 "nbformat_minor": 0,
 "worksheets": [
  {
   "cells": [
    {
     "cell_type": "code",
     "collapsed": false,
     "input": [
      "import pandas as pd, numpy as np, datetime, random, cPickle as pickle\n",
      "from sklearn.cluster import KMeans, DBSCAN\n",
      "from sklearn.cluster.bicluster import SpectralBiclustering\n",
      "from sklearn.linear_model import LinearRegression\n",
      "from scipy import stats\n",
      "from collections import Counter\n",
      "from __future__ import division\n",
      "pd.set_option('max_colwidth', 200)\n",
      "pd.set_option('display.max_rows', 500)\n",
      "%matplotlib inline"
     ],
     "language": "python",
     "metadata": {},
     "outputs": [],
     "prompt_number": 89
    },
    {
     "cell_type": "markdown",
     "metadata": {},
     "source": [
      "### Read in data"
     ]
    },
    {
     "cell_type": "code",
     "collapsed": false,
     "input": [
      "base_path = './data/'\n",
      "file_2011 = 'stark_2011_events.csv'\n",
      "grades_2011 = 'anonymized11.csv'"
     ],
     "language": "python",
     "metadata": {},
     "outputs": [],
     "prompt_number": 90
    },
    {
     "cell_type": "code",
     "collapsed": false,
     "input": [
      "events = pd.read_csv('%s%s' % (base_path,file_2011),\n",
      "                     skiprows=1,\n",
      "                     names=['userId',\n",
      "                            'updatedAt',\n",
      "                            'eventType',\n",
      "                            'activityType',\n",
      "                            'activityTitle',\n",
      "                            'topicTitle',\n",
      "                            'timeMinutes',\n",
      "                            'scorePercent',\n",
      "                            'anchorValue',\n",
      "                            'anchorSelection',\n",
      "                            'topicId',\n",
      "                            'activityId',\n",
      "                            'activityEventId',\n",
      "                            'updateCount'],\n",
      "                     parse_dates=[\"updatedAt\"],\n",
      "                     na_values=[\"\\N\"],\n",
      "                     delimiter=\"\\t\"\n",
      "                     )\n",
      "\n",
      "grades = pd.read_csv('%s%s' % (base_path,grades_2011),\n",
      "                     skiprows=1,\n",
      "                     names=[\"dropcol\",\n",
      "                            \"userId\",\n",
      "                            \"Set0\",\n",
      "                            \"Set1\",\n",
      "                            \"Set2\",\n",
      "                            \"Set3\",\n",
      "                            \"Set4\",\n",
      "                            \"Set5\",\n",
      "                            \"Set6\",\n",
      "                            \"Set7\",\n",
      "                            \"Set8\",\n",
      "                            \"Set9\",\n",
      "                            \"Set10\",\n",
      "                            \"Set11\",\n",
      "                            \"Set12\",\n",
      "                            \"Set13\",\n",
      "                            \"Set14\",\n",
      "                            \"Set15\",\n",
      "                            \"Set16\",\n",
      "                            \"Set17\",\n",
      "                            \"Set18\",\n",
      "                            \"Set19\",\n",
      "                            \"Set20\",\n",
      "                            \"Set21\",\n",
      "                            \"Set22\",\n",
      "                            \"Set23\",\n",
      "                            \"Set24\",\n",
      "                            \"Set25\",\n",
      "                            \"Set26\",\n",
      "                            \"Set27\",\n",
      "                            \"Set28\",\n",
      "                            \"demerit\",\n",
      "                            \"s0\",\n",
      "                            \"s1\",\n",
      "                            \"s2\",\n",
      "                            \"s3\",\n",
      "                            \"s4\",\n",
      "                            \"s5\",\n",
      "                            \"s6\",\n",
      "                            \"s7\",\n",
      "                            \"s8\",\n",
      "                            \"s9\",\n",
      "                            \"s10\",\n",
      "                            \"s11\",\n",
      "                            \"s12\",\n",
      "                            \"s13\",\n",
      "                            \"s14\",\n",
      "                            \"s15\",\n",
      "                            \"s16\",\n",
      "                            \"s17\",\n",
      "                            \"s18\",\n",
      "                            \"s19\",\n",
      "                            \"s20\",\n",
      "                            \"s21\",\n",
      "                            \"s22\",\n",
      "                            \"s23\",\n",
      "                            \"s24\",\n",
      "                            \"s25\",\n",
      "                            \"s26\",\n",
      "                            \"s27\",\n",
      "                            \"s28\",\n",
      "                            \"set2Adj\",\n",
      "                            \"set3Adj\",\n",
      "                            \"set4Adj\",\n",
      "                            \"set5Adj\",\n",
      "                            \"set9Adj\",\n",
      "                            \"set13Adj\",\n",
      "                            \"set23Adj\",\n",
      "                            \"Cred.Code\",\n",
      "                            \"hw\",\n",
      "                            \"final\",\n",
      "                            \"course\",\n",
      "                            \"letter\",\n",
      "                            \"Comment\"])\n",
      "\n",
      "grades = grades[grades.course.apply(lambda x: pd.notnull(x))]\n",
      "del grades['dropcol']"
     ],
     "language": "python",
     "metadata": {},
     "outputs": [],
     "prompt_number": 91
    },
    {
     "cell_type": "markdown",
     "metadata": {},
     "source": [
      "### Feature engineering"
     ]
    },
    {
     "cell_type": "code",
     "collapsed": false,
     "input": [
      "# limit dataframe to \"good\" rows\n",
      "graded = set(grades.userId.values)\n",
      "events = events[(events.activityType != 'DISCUSS') & \n",
      "                (events.eventType != 'OPENED') &\n",
      "                (events.timeMinutes.apply(lambda x: pd.notnull(x))) &\n",
      "                (events.userId.apply(lambda x: x in graded))]"
     ],
     "language": "python",
     "metadata": {},
     "outputs": [],
     "prompt_number": 92
    },
    {
     "cell_type": "code",
     "collapsed": false,
     "input": [
      "# day of week lookup dict\n",
      "day_of_week = {0: 'Monday',\n",
      "               1: 'Tuesday',\n",
      "               2: 'Wednesday',\n",
      "               3: 'Thursday',\n",
      "               4: 'Friday',\n",
      "               5: 'Saturday',\n",
      "               6: 'Sunday'}\n",
      "alt_dow = {i: 'day_%d' % i for i in range(7)}\n",
      "\n",
      "# calculate time features\n",
      "total_time = events.groupby('userId').timeMinutes.sum()\n",
      "day_time = events.groupby(['userId',events.updatedAt.apply(lambda x: alt_dow[x.dayofweek])]).timeMinutes.sum().unstack()\n",
      "event_time = events.groupby(['userId','eventType']).timeMinutes.sum().unstack()\n",
      "activity_time = events.groupby(['userId',events.activityType.apply(lambda x: 'WATCH' if x == 'LISTEN' else x)]).timeMinutes.sum().unstack()\n",
      "\n",
      "# create full dataframe\n",
      "train_features = pd.DataFrame(total_time).join([day_time,event_time,activity_time]).fillna(0)\n",
      "\n",
      "# calculate percents\n",
      "for feat in train_features.keys():\n",
      "    if feat != 'timeMinutes':\n",
      "        train_features[feat] = train_features[feat] / train_features.timeMinutes\n",
      "\n",
      "del train_features['timeMinutes']"
     ],
     "language": "python",
     "metadata": {},
     "outputs": [],
     "prompt_number": 93
    },
    {
     "cell_type": "code",
     "collapsed": false,
     "input": [
      "# assignment behavior features\n",
      "submits = events[(events.activityType == 'ASSIGNMENT') & \n",
      "                 (events.eventType == 'CLOSED') & \n",
      "                 (events.anchorValue.apply(lambda x: pd.isnull(x))) &\n",
      "                 (events.scorePercent.apply(lambda x: pd.notnull(x))) &\n",
      "                 ((events.scorePercent + events.timeMinutes).apply(lambda x: x > 0))][['userId','updatedAt','topicTitle','timeMinutes','scorePercent']]\n",
      "\n",
      "avg_submit = pd.DataFrame(submits.groupby('userId').topicTitle.count() / submits.groupby('userId').topicTitle.nunique())\n",
      "avg_submit.columns = ['submits']\n",
      "\n",
      "train_features = train_features.join(avg_submit)"
     ],
     "language": "python",
     "metadata": {},
     "outputs": [],
     "prompt_number": 94
    },
    {
     "cell_type": "code",
     "collapsed": false,
     "input": [
      "# Yu's video features\n",
      "yu_events = events[(events.activityType == 'WATCH') | (events.activityType == 'LISTEN')]\n",
      "\n",
      "# Counting the number of video accessed by each user\n",
      "video_map = yu_events.groupby(['userId', 'topicId']).size().unstack().fillna(value=0)\n",
      "user_video = video_map.applymap((lambda x: 1 if x > 0 else 0)).sum(axis=\"columns\")\n",
      "user_video = pd.DataFrame(user_video, columns=['VideoAccessed'])\n",
      "\n",
      "# Counting the number of suspension\n",
      "user_eventType = yu_events.groupby(['userId', 'eventType']).size().unstack()\n",
      "user_suspended = user_eventType[['SUSPENDED']].fillna(value=0)\n",
      "\n",
      "# Getting the grades\n",
      "user_grades = grades[['userId', 'hw', 'final', 'course']].set_index('userId')\n",
      "\n",
      "# Drop \"final == 0\"\n",
      "user_grades = user_grades[user_grades.final != 0]\n",
      "\n",
      "# Merge VideoAccessed and NumSuspension, then calculate the average number of suspension per video\n",
      "user_data = user_video.join(user_suspended)\n",
      "user_data = user_data[user_data.VideoAccessed > 0]\n",
      "user_data['SuspensionPerVideo'] = user_data['SUSPENDED'] / user_data['VideoAccessed']\n",
      "\n",
      "# Merge grades\n",
      "user_data = user_data.join(user_grades).dropna()\n",
      "user_data = user_data.sort(columns='VideoAccessed')\n",
      "\n",
      "# Merge stuff\n",
      "# print list(user_data.columns.values)\n",
      "# print list(train_features.columns.values)\n",
      "\n",
      "\n",
      "# print train_features[:3]\n",
      "# print user_data[:3]\n",
      "# print user_data.info()\n",
      "# print train_features[:3]\n",
      "# print train_features.info()\n",
      "\n",
      "\n",
      "train_features = train_features.join(user_data[['SuspensionPerVideo', 'VideoAccessed']]).fillna(value=0)\n",
      "# print train_features.merge(user_data, on=['userId'])[:3]\n",
      "\n",
      "print train_features[:3]\n",
      "# print list(train_features.columns.values)\n",
      "# print train_features[:5]"
     ],
     "language": "python",
     "metadata": {},
     "outputs": [
      {
       "output_type": "stream",
       "stream": "stdout",
       "text": [
        "                                         day_0     day_1     day_2     day_3  \\\n",
        "userId                                                                         \n",
        "02545c6b-d4f0-4981-a7dd-fba4733cb04a  0.188776  0.382418  0.159812  0.041052   \n",
        "03ad0a94-bbb6-4e23-9704-4de918908205  0.153747  0.175990  0.218431  0.150468   \n",
        "046ea471-170e-4864-a9f4-efa7a8b67f9d  0.308210  0.347659  0.202053  0.124118   \n",
        "\n",
        "                                         day_4     day_5     day_6    CLOSED  \\\n",
        "userId                                                                         \n",
        "02545c6b-d4f0-4981-a7dd-fba4733cb04a  0.054160  0.102983  0.070801  0.356436   \n",
        "03ad0a94-bbb6-4e23-9704-4de918908205  0.103132  0.095433  0.102799  0.295233   \n",
        "046ea471-170e-4864-a9f4-efa7a8b67f9d  0.009301  0.000000  0.008659  0.772611   \n",
        "\n",
        "                                      SUSPENDED    WORKED  ASSIGNMENT  \\\n",
        "userId                                                                  \n",
        "02545c6b-d4f0-4981-a7dd-fba4733cb04a   0.000000  0.643564    0.994976   \n",
        "03ad0a94-bbb6-4e23-9704-4de918908205   0.023003  0.681764    0.278029   \n",
        "046ea471-170e-4864-a9f4-efa7a8b67f9d   0.093329  0.134060    0.561578   \n",
        "\n",
        "                                      PRACTICE      READ     WATCH   submits  \\\n",
        "userId                                                                         \n",
        "02545c6b-d4f0-4981-a7dd-fba4733cb04a  0.000000  0.005024  0.000000  4.000000   \n",
        "03ad0a94-bbb6-4e23-9704-4de918908205  0.034837  0.647165  0.039970  4.758621   \n",
        "046ea471-170e-4864-a9f4-efa7a8b67f9d  0.029506  0.124439  0.284477  4.120000   \n",
        "\n",
        "                                      SuspensionPerVideo  VideoAccessed  \n",
        "userId                                                                   \n",
        "02545c6b-d4f0-4981-a7dd-fba4733cb04a            0.000000              0  \n",
        "03ad0a94-bbb6-4e23-9704-4de918908205            1.190000            100  \n",
        "046ea471-170e-4864-a9f4-efa7a8b67f9d            0.702381             84  \n"
       ]
      }
     ],
     "prompt_number": 95
    },
    {
     "cell_type": "code",
     "collapsed": false,
     "input": [],
     "language": "python",
     "metadata": {},
     "outputs": [],
     "prompt_number": 95
    },
    {
     "cell_type": "code",
     "collapsed": false,
     "input": [
      "# z-score columns\n",
      "for feat in train_features.keys():\n",
      "    train_features[feat] = stats.mstats.zscore(train_features[feat])"
     ],
     "language": "python",
     "metadata": {},
     "outputs": [],
     "prompt_number": 96
    },
    {
     "cell_type": "markdown",
     "metadata": {},
     "source": [
      "### Clustering"
     ]
    },
    {
     "cell_type": "code",
     "collapsed": false,
     "input": [
      "numclus = 3\n",
      "model = SpectralBiclustering(n_clusters=numclus, method='log', random_state=0)\n",
      "model.fit(train_features)"
     ],
     "language": "python",
     "metadata": {},
     "outputs": []
    },
    {
     "cell_type": "code",
     "collapsed": false,
     "input": [
      "c = Counter(model.row_labels_)\n",
      "print c"
     ],
     "language": "python",
     "metadata": {},
     "outputs": []
    },
    {
     "cell_type": "code",
     "collapsed": false,
     "input": [
      "clus_df = pd.concat([train_features,pd.DataFrame({'clus': model.row_labels_}, index=train_features.index)],axis=1)\n",
      "a = clus_df.groupby('clus').mean().T.plot(figsize=(15,numclus*3), ylim=(-3,3), subplots=True, kind='bar')"
     ],
     "language": "python",
     "metadata": {},
     "outputs": []
    },
    {
     "cell_type": "code",
     "collapsed": false,
     "input": [
      "#kmeans = KMeans(init='k-means++', n_clusters=numclus, n_init=10)\n",
      "#kmeans.fit(train_features)"
     ],
     "language": "python",
     "metadata": {},
     "outputs": []
    },
    {
     "cell_type": "code",
     "collapsed": false,
     "input": [
      "#c = Counter(kmeans.labels_)\n",
      "#print c"
     ],
     "language": "python",
     "metadata": {},
     "outputs": []
    },
    {
     "cell_type": "code",
     "collapsed": false,
     "input": [
      "#clus_df = pd.concat([train_features,pd.DataFrame({'clus': kmeans.labels_}, index=train_features.index)],axis=1)\n",
      "#a = clus_df.groupby('clus').mean().T.plot(figsize=(15,numclus*3), ylim=(-3,3), subplots=True, kind='bar')"
     ],
     "language": "python",
     "metadata": {},
     "outputs": []
    },
    {
     "cell_type": "markdown",
     "metadata": {},
     "source": [
      "### Resource usage during assignments"
     ]
    },
    {
     "cell_type": "code",
     "collapsed": false,
     "input": [
      "# limit events to listening/watching, practice, and reading activities\n",
      "def retitle(df):\n",
      "    newTitle = df.activityType + ': '\n",
      "    if df.topicTitle != df.activityTitle:\n",
      "        if df.activityTitle[:8] == 'Exercise' or 'Example' in df.activityTitle:\n",
      "            newTitle += df.activityTitle + ': ' + df.topicTitle\n",
      "        else:\n",
      "            newTitle += df.topicTitle + ': ' + df.activityTitle\n",
      "    else:\n",
      "        newTitle += df.topicTitle\n",
      "    return newTitle\n",
      "\n",
      "events_j = events[events.activityType.apply(lambda x: x in ['LISTEN','PRACTICE','READ','WATCH'])]\n",
      "events_j['resource'] = events_j.apply(retitle, axis=1)\n",
      "events_j['updatedAt_1hrs'] = events_j.updatedAt.apply(lambda x: x - np.timedelta64(1,'h'))\n",
      "events_j['updatedAt_3hrs'] = events_j.updatedAt.apply(lambda x: x - np.timedelta64(3,'h'))\n",
      "events_j['updatedAt_6hrs'] = events_j.updatedAt.apply(lambda x: x - np.timedelta64(6,'h'))\n",
      "events_j = events_j[['userId',\n",
      "                     'updatedAt',\n",
      "                     'activityType',\n",
      "                     'timeMinutes',\n",
      "                     'anchorValue',\n",
      "                     'resource',\n",
      "                     'updatedAt_1hrs',\n",
      "                     'updatedAt_3hrs',\n",
      "                     'updatedAt_6hrs']]"
     ],
     "language": "python",
     "metadata": {},
     "outputs": []
    },
    {
     "cell_type": "code",
     "collapsed": false,
     "input": [
      "# cartesian join in all resource events to submits data\n",
      "submits_j = pd.merge(submits, events_j, on=['userId'])\n",
      "submits_j.rename(columns={'updatedAt_x':'updatedAt'}, inplace=True)\n",
      "print submits_j.shape"
     ],
     "language": "python",
     "metadata": {},
     "outputs": []
    },
    {
     "cell_type": "code",
     "collapsed": false,
     "input": [
      "# select \"good\" resource usage events and create user/assignment vs resource usage matrix\n",
      "good_idx = (submits_j.updatedAt < submits_j.updatedAt_y) & (submits_j.updatedAt > submits_j.updatedAt_1hrs)\n",
      "resources = submits_j[good_idx].groupby(['userId','topicTitle','updatedAt','resource']).timeMinutes_y.sum().unstack().fillna(0)\n",
      "resource_list = resources.columns"
     ],
     "language": "python",
     "metadata": {},
     "outputs": []
    },
    {
     "cell_type": "code",
     "collapsed": false,
     "input": [
      "# get assignment grades to join in\n",
      "submits_g = submits[['userId','topicTitle','updatedAt','scorePercent']].set_index(['userId','topicTitle','updatedAt'])"
     ],
     "language": "python",
     "metadata": {},
     "outputs": []
    },
    {
     "cell_type": "code",
     "collapsed": false,
     "input": [
      "resources = resources.join(submits_g).join(clus_df[['clus']], how='inner').reset_index()"
     ],
     "language": "python",
     "metadata": {},
     "outputs": []
    },
    {
     "cell_type": "markdown",
     "metadata": {},
     "source": [
      "### Regression for top resources"
     ]
    },
    {
     "cell_type": "code",
     "collapsed": false,
     "input": [
      "regmodel = LinearRegression()\n",
      "regmodel.fit(resources[(resources.topicTitle == 'CHAPTER 5 Assignment: Multivariate Data and Scatterplots') &\n",
      "                       (resources.clus == 1)][resource_list],\n",
      "             resources[(resources.topicTitle == 'CHAPTER 5 Assignment: Multivariate Data and Scatterplots') &\n",
      "                       (resources.clus == 1)][['scorePercent']])"
     ],
     "language": "python",
     "metadata": {},
     "outputs": []
    },
    {
     "cell_type": "code",
     "collapsed": false,
     "input": [
      "sorted(zip(resource_list,regmodel.coef_.flatten()), key=lambda x: x[1], reverse=True)[:10]"
     ],
     "language": "python",
     "metadata": {},
     "outputs": []
    },
    {
     "cell_type": "code",
     "collapsed": false,
     "input": [
      "regmodel.fit(resources[(resources.topicTitle == 'CHAPTER 5 Assignment: Multivariate Data and Scatterplots') &\n",
      "                       (resources.clus == 2)][resource_list],\n",
      "             resources[(resources.topicTitle == 'CHAPTER 5 Assignment: Multivariate Data and Scatterplots') &\n",
      "                       (resources.clus == 2)][['scorePercent']])"
     ],
     "language": "python",
     "metadata": {},
     "outputs": []
    },
    {
     "cell_type": "code",
     "collapsed": false,
     "input": [
      "sorted(zip(resource_list,regmodel.coef_.flatten()), key=lambda x: x[1], reverse=True)[:10]"
     ],
     "language": "python",
     "metadata": {},
     "outputs": []
    },
    {
     "cell_type": "code",
     "collapsed": false,
     "input": [],
     "language": "python",
     "metadata": {},
     "outputs": []
    }
   ],
   "metadata": {}
  }
 ]
}